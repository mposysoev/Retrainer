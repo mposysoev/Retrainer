{
 "cells": [
  {
   "cell_type": "markdown",
   "metadata": {},
   "source": [
    "# Retrainer"
   ]
  },
  {
   "cell_type": "code",
   "execution_count": null,
   "metadata": {},
   "outputs": [],
   "source": [
    "include(\"src/Retrainer.jl\")\n",
    "using .Retrainer\n",
    "\n",
    "using Plots"
   ]
  },
  {
   "cell_type": "markdown",
   "metadata": {},
   "source": [
    "Firstly, you need to set up parameters essential for re-training process:\n",
    "\n",
    "* Teacher Model Parameters:\n",
    "  - `file_path` – this is the path to teacher model.\n",
    "\n",
    "* Student Model Parameters:\n",
    "  - `file_name` – this is the file name that student model would be saved in.\n",
    "  - `structure` – this is structure of layers and neurons for student model.\n",
    "  - `activations` – this is the structure of activation functions between layers.\n",
    "  - `use_bias` – this is parameter that can turn on/turn off biases for layers in student model.\n",
    "  - `precision` – this parameter set the precision type for student model. It could be: `f64`, `f32` or `f16`.\n",
    "\n",
    "* Training Parameters:\n",
    "  - `epochs` – this is the number of training epochs.\n",
    "  - `learning_rate` – this is learning rate that would be used for `Adam` optimizer.\n",
    "  - `input_scale_coef` - this coefficient is scale coefficient for input data. Input data initially just random generated in interval $[0, 1)$, after that it would be multiplied by `input_scale_coef`.\n",
    "\n",
    "* Testing Parameters:\n",
    "  - `samples_num` – this is amount of samples that would be used for calculating accuracy."
   ]
  },
  {
   "cell_type": "code",
   "execution_count": null,
   "metadata": {},
   "outputs": [],
   "source": [
    "# [teacher_model]\n",
    "file_path = \"example-methanol-model.bson\"\n",
    "\n",
    "# [student_model]\n",
    "file_name = \"retrained-model.bson\"\n",
    "structure = [8, 10, 8, 1]\n",
    "activations = [\"identity\", \"relu\", \"identity\"]\n",
    "use_bias = true\n",
    "precision = \"f64\"\n",
    "\n",
    "# [training]\n",
    "epochs = 1000000\n",
    "learning_rate = 0.001\n",
    "input_scale_coef = 16\n",
    "\n",
    "# [testing]\n",
    "samples_num = 100000;"
   ]
  },
  {
   "cell_type": "code",
   "execution_count": null,
   "metadata": {},
   "outputs": [],
   "source": [
    "student_params = NeuralNetParams(structure, activations, use_bias, precision)\n",
    "training_params = TrainingParams(epochs, learning_rate, input_scale_coef)\n",
    "testing_params = TestingParams(input_scale_coef, samples_num);"
   ]
  },
  {
   "cell_type": "markdown",
   "metadata": {},
   "source": [
    "## Initial training\n",
    "\n",
    "This procedure create student model and train it to reproduce results of teacher model."
   ]
  },
  {
   "cell_type": "code",
   "execution_count": null,
   "metadata": {},
   "outputs": [],
   "source": [
    "student_model, teacher_model, losses = run_initial_training(student_params, training_params,\n",
    "    testing_params, file_path, file_name);"
   ]
  },
  {
   "cell_type": "code",
   "execution_count": null,
   "metadata": {},
   "outputs": [],
   "source": [
    "plot_loss_function(losses)"
   ]
  },
  {
   "cell_type": "markdown",
   "metadata": {},
   "source": [
    "### Heatmaps of weights of Teacher Model"
   ]
  },
  {
   "cell_type": "code",
   "execution_count": null,
   "metadata": {},
   "outputs": [],
   "source": [
    "plot_model_parameters(teacher_model)"
   ]
  },
  {
   "cell_type": "markdown",
   "metadata": {},
   "source": [
    "### Heatmaps of weights of Student Model"
   ]
  },
  {
   "cell_type": "code",
   "execution_count": null,
   "metadata": {},
   "outputs": [],
   "source": [
    "plot_model_parameters(student_model)"
   ]
  },
  {
   "cell_type": "markdown",
   "metadata": {},
   "source": [
    "## Fine tuning of the model\n",
    "\n",
    "After training the model, usually it is required to train with another set of parameters. It means smaller `learning_rate` very often."
   ]
  },
  {
   "cell_type": "code",
   "execution_count": null,
   "metadata": {},
   "outputs": [],
   "source": [
    "student_file_path = \"retrained-model.bson\"\n",
    "output_file_name = \"fine-tuned-model.bson\"\n",
    "teacher_file_path = \"example-methanol-model.bson\"\n",
    "\n",
    "# [training]\n",
    "epochs = 2000000\n",
    "learning_rate = 0.0001\n",
    "input_scale_coef = 2\n",
    "\n",
    "# [testing]\n",
    "samples_num = 100000\n",
    "\n",
    "fine_tuning_training_params = TrainingParams(epochs, learning_rate, input_scale_coef)\n",
    "fine_tuning_testing_params = TestingParams(input_scale_coef, samples_num);"
   ]
  },
  {
   "cell_type": "code",
   "execution_count": null,
   "metadata": {},
   "outputs": [],
   "source": [
    "student_model, teacher_model, losses = run_fine_tuning(student_file_path, output_file_name, teacher_file_path,\n",
    "    fine_tuning_training_params, fine_tuning_testing_params);"
   ]
  },
  {
   "cell_type": "code",
   "execution_count": null,
   "metadata": {},
   "outputs": [],
   "source": [
    "plot_loss_function(losses)"
   ]
  },
  {
   "cell_type": "markdown",
   "metadata": {},
   "source": [
    "### Heatmaps of weights of Teacher Model"
   ]
  },
  {
   "cell_type": "code",
   "execution_count": null,
   "metadata": {},
   "outputs": [],
   "source": [
    "plot_model_parameters(teacher_model)"
   ]
  },
  {
   "cell_type": "markdown",
   "metadata": {},
   "source": [
    "### Heatmaps of weights of Student Model"
   ]
  },
  {
   "cell_type": "code",
   "execution_count": null,
   "metadata": {},
   "outputs": [],
   "source": [
    "plot_model_parameters(student_model)"
   ]
  }
 ],
 "metadata": {
  "kernelspec": {
   "display_name": "Julia 1.10.4",
   "language": "julia",
   "name": "julia-1.10"
  },
  "language_info": {
   "file_extension": ".jl",
   "mimetype": "application/julia",
   "name": "julia",
   "version": "1.10.4"
  }
 },
 "nbformat": 4,
 "nbformat_minor": 2
}
